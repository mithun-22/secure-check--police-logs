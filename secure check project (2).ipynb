{
 "cells": [
  {
   "cell_type": "code",
   "execution_count": null,
   "id": "bc87fdff-3d53-4df9-b0c0-5ec7224569da",
   "metadata": {},
   "outputs": [],
   "source": []
  },
  {
   "cell_type": "code",
   "execution_count": 3,
   "id": "60bb589c-d0c8-46c7-b93f-37d9cb72aa40",
   "metadata": {},
   "outputs": [
    {
     "name": "stdout",
     "output_type": "stream",
     "text": [
      "        stop_date stop_time country_name driver_gender  driver_age_raw  \\\n",
      "0      2020-01-01   0:00:00       Canada             M              59   \n",
      "1      2020-01-01   0:01:00        India             M              35   \n",
      "2      2020-01-01   0:02:00          USA             M              26   \n",
      "3      2020-01-01   0:03:00       Canada             M              26   \n",
      "4      2020-01-01   0:04:00       Canada             M              62   \n",
      "...           ...       ...          ...           ...             ...   \n",
      "65533  2020-02-15  12:13:00        India             F              54   \n",
      "65534  2020-02-15  12:14:00       Canada             F              18   \n",
      "65535  2020-02-15  12:15:00          USA             M              27   \n",
      "65536  2020-02-15  12:16:00       Canada             F              49   \n",
      "65537  2020-02-15  12:17:00          USA             F              72   \n",
      "\n",
      "       driver_age driver_race     violation_raw violation  search_conducted  \\\n",
      "0              19       Asian     Drunk Driving  Speeding                 1   \n",
      "1              58       Other             Other     Other                 0   \n",
      "2              76       Black  Signal Violation  Speeding                 0   \n",
      "3              76       Black          Speeding       DUI                 1   \n",
      "4              75       Other          Speeding     Other                 0   \n",
      "...           ...         ...               ...       ...               ...   \n",
      "65533          48       Black             Other     Other                 0   \n",
      "65534          35    Hispanic          Seatbelt     Other                 1   \n",
      "65535          41       Asian          Seatbelt       DUI                 1   \n",
      "65536          63       Black          Seatbelt     Other                 0   \n",
      "65537          32       Other          Seatbelt  Speeding                 1   \n",
      "\n",
      "          search_type stop_outcome  is_arrested stop_duration  \\\n",
      "0      Vehicle Search       Ticket            1     16-30 Min   \n",
      "1      Vehicle Search       Arrest            1     16-30 Min   \n",
      "2               Frisk       Ticket            1     16-30 Min   \n",
      "3               Frisk      Warning            0      0-15 Min   \n",
      "4      Vehicle Search       Arrest            1     16-30 Min   \n",
      "...               ...          ...          ...           ...   \n",
      "65533  Vehicle Search       Arrest            1     16-30 Min   \n",
      "65534  Vehicle Search       Ticket            0     16-30 Min   \n",
      "65535           Frisk       Ticket            1       30+ Min   \n",
      "65536            None      Warning            1      0-15 Min   \n",
      "65537            None       Ticket            1     16-30 Min   \n",
      "\n",
      "       drugs_related_stop vehicle_number  \n",
      "0                       1     UP76DY3473  \n",
      "1                       1     RJ83PZ4441  \n",
      "2                       1     RJ32OM7264  \n",
      "3                       1     RJ76TI3807  \n",
      "4                       0     WB63BB8305  \n",
      "...                   ...            ...  \n",
      "65533                   0     DL56GW6568  \n",
      "65534                   1     TN73EO7098  \n",
      "65535                   1     GJ33MX8328  \n",
      "65536                   1     KA24UZ8488  \n",
      "65537                   0     UP89PT2924  \n",
      "\n",
      "[65538 rows x 16 columns]\n"
     ]
    }
   ],
   "source": [
    "import pandas as pd\n",
    "import sqlite3\n",
    "\n",
    "conn = sqlite3.connect(\"MITHUN.db\")\n",
    "\n",
    "df = pd.read_sql_query(\"SELECT * FROM traffic\", conn)\n",
    "print(df)"
   ]
  },
  {
   "cell_type": "code",
   "execution_count": 5,
   "id": "d6ddc268-b9f4-49a5-8f32-38fe707d35ff",
   "metadata": {},
   "outputs": [
    {
     "name": "stderr",
     "output_type": "stream",
     "text": [
      "C:\\Users\\Dell\\AppData\\Local\\Temp\\ipykernel_9340\\1309303625.py:5: DtypeWarning: Columns (10) have mixed types. Specify dtype option on import or set low_memory=False.\n",
      "  merged_df = pd.read_csv(\"traffic.csv\")\n"
     ]
    },
    {
     "name": "stdout",
     "output_type": "stream",
     "text": [
      "Data saved to database successfully!\n"
     ]
    }
   ],
   "source": [
    "import pandas as pd\n",
    "from sqlalchemy import create_engine\n",
    "\n",
    "# Step 1: Load the CSV : check the file name\n",
    "merged_df = pd.read_csv(\"traffic.csv\")\n",
    "\n",
    "# Step 2: Create engine\n",
    "engine = create_engine(\"sqlite:///MITHUN.db\")\n",
    "\n",
    "# Step 3: Store the DataFrame in SQLite\n",
    "merged_df.to_sql(\"traffic\", engine, if_exists=\"replace\", index=False)\n",
    "\n",
    "print(\"Data saved to database successfully!\")\n"
   ]
  },
  {
   "cell_type": "code",
   "execution_count": 6,
   "id": "e84db28b-6c9f-49cc-ac03-803b74d9e8ee",
   "metadata": {
    "scrolled": true
   },
   "outputs": [
    {
     "name": "stdout",
     "output_type": "stream",
     "text": [
      "      driver_race   stop_date\n",
      "0           Asian  2020-01-01\n",
      "1           Other  2020-01-01\n",
      "2           Black  2020-01-01\n",
      "3           Black  2020-01-01\n",
      "4           Other  2020-01-01\n",
      "...           ...         ...\n",
      "65533       Black  2020-02-15\n",
      "65534    Hispanic  2020-02-15\n",
      "65535       Asian  2020-02-15\n",
      "65536       Black  2020-02-15\n",
      "65537       Other  2020-02-15\n",
      "\n",
      "[65538 rows x 2 columns]\n"
     ]
    }
   ],
   "source": [
    "df = pd.read_sql_query(\"SELECT driver_race,stop_date FROM traffic\", conn)\n",
    "df.head()\n",
    "print(df)"
   ]
  },
  {
   "cell_type": "code",
   "execution_count": 9,
   "id": "dcd14741-b4e1-4b78-b6ab-7823c3ba3eaa",
   "metadata": {},
   "outputs": [
    {
     "name": "stdout",
     "output_type": "stream",
     "text": [
      "Defaulting to user installation because normal site-packages is not writeable\n",
      "Requirement already satisfied: tabulate in c:\\programdata\\anaconda3\\lib\\site-packages (0.9.0)\n"
     ]
    }
   ],
   "source": [
    "!pip install tabulate"
   ]
  },
  {
   "cell_type": "code",
   "execution_count": 10,
   "id": "8a4c0897-a5a1-4292-9d64-05fd36c0a2e7",
   "metadata": {},
   "outputs": [],
   "source": [
    "from tabulate import tabulate"
   ]
  },
  {
   "cell_type": "code",
   "execution_count": 13,
   "id": "61fa36a5-1b79-4679-8e4c-ec83d281ab10",
   "metadata": {},
   "outputs": [],
   "source": [
    "headers=True"
   ]
  },
  {
   "cell_type": "code",
   "execution_count": 15,
   "id": "ddfe5bbd-cf3f-4848-a717-e9c7c6bfd88f",
   "metadata": {},
   "outputs": [
    {
     "name": "stdout",
     "output_type": "stream",
     "text": [
      "Defaulting to user installation because normal site-packages is not writeable\n",
      "Requirement already satisfied: mysql-connector-python in c:\\users\\dell\\appdata\\roaming\\python\\python312\\site-packages (9.2.0)\n"
     ]
    }
   ],
   "source": [
    "!pip install mysql-connector-python\n",
    "import mysql.connector\n"
   ]
  },
  {
   "cell_type": "code",
   "execution_count": 16,
   "id": "51274d89-2c53-4ac3-ac06-a88d09c446a4",
   "metadata": {},
   "outputs": [
    {
     "ename": "InterfaceError",
     "evalue": "2002: Can't connect to local MySQL server through socket '%-.100s' (%s) (Warning: not all arguments converted during string formatting)",
     "output_type": "error",
     "traceback": [
      "\u001b[1;31m---------------------------------------------------------------------------\u001b[0m",
      "\u001b[1;31mConnectionRefusedError\u001b[0m                    Traceback (most recent call last)",
      "File \u001b[1;32m~\\AppData\\Roaming\\Python\\Python312\\site-packages\\mysql\\connector\\network.py:799\u001b[0m, in \u001b[0;36mMySQLTCPSocket.open_connection\u001b[1;34m(self)\u001b[0m\n\u001b[0;32m    798\u001b[0m     \u001b[38;5;28mself\u001b[39m\u001b[38;5;241m.\u001b[39msock\u001b[38;5;241m.\u001b[39msettimeout(\u001b[38;5;28mself\u001b[39m\u001b[38;5;241m.\u001b[39m_connection_timeout)\n\u001b[1;32m--> 799\u001b[0m     \u001b[38;5;28mself\u001b[39m\u001b[38;5;241m.\u001b[39msock\u001b[38;5;241m.\u001b[39mconnect(sockaddr)\n\u001b[0;32m    800\u001b[0m \u001b[38;5;28;01mexcept\u001b[39;00m (socket\u001b[38;5;241m.\u001b[39mtimeout, \u001b[38;5;167;01mTimeoutError\u001b[39;00m) \u001b[38;5;28;01mas\u001b[39;00m err:\n",
      "\u001b[1;31mConnectionRefusedError\u001b[0m: [WinError 10061] No connection could be made because the target machine actively refused it",
      "\nThe above exception was the direct cause of the following exception:\n",
      "\u001b[1;31mInterfaceError\u001b[0m                            Traceback (most recent call last)",
      "Cell \u001b[1;32mIn[16], line 1\u001b[0m\n\u001b[1;32m----> 1\u001b[0m mydb \u001b[38;5;241m=\u001b[39m mysql\u001b[38;5;241m.\u001b[39mconnector\u001b[38;5;241m.\u001b[39mconnect(\n\u001b[0;32m      2\u001b[0m     host \u001b[38;5;241m=\u001b[39m \u001b[38;5;124m\"\u001b[39m\u001b[38;5;124mlocalhost\u001b[39m\u001b[38;5;124m\"\u001b[39m,\n\u001b[0;32m      3\u001b[0m     user \u001b[38;5;241m=\u001b[39m \u001b[38;5;124m\"\u001b[39m\u001b[38;5;124mroot\u001b[39m\u001b[38;5;124m\"\u001b[39m,\n\u001b[0;32m      4\u001b[0m     password\u001b[38;5;241m=\u001b[39m\u001b[38;5;124m\"\u001b[39m\u001b[38;5;124m\"\u001b[39m\n\u001b[0;32m      5\u001b[0m )\n",
      "File \u001b[1;32m~\\AppData\\Roaming\\Python\\Python312\\site-packages\\mysql\\connector\\pooling.py:323\u001b[0m, in \u001b[0;36mconnect\u001b[1;34m(*args, **kwargs)\u001b[0m\n\u001b[0;32m    321\u001b[0m \u001b[38;5;28;01mif\u001b[39;00m CMySQLConnection \u001b[38;5;129;01mand\u001b[39;00m \u001b[38;5;129;01mnot\u001b[39;00m use_pure:\n\u001b[0;32m    322\u001b[0m     \u001b[38;5;28;01mreturn\u001b[39;00m CMySQLConnection(\u001b[38;5;241m*\u001b[39margs, \u001b[38;5;241m*\u001b[39m\u001b[38;5;241m*\u001b[39mkwargs)\n\u001b[1;32m--> 323\u001b[0m \u001b[38;5;28;01mreturn\u001b[39;00m MySQLConnection(\u001b[38;5;241m*\u001b[39margs, \u001b[38;5;241m*\u001b[39m\u001b[38;5;241m*\u001b[39mkwargs)\n",
      "File \u001b[1;32m~\\AppData\\Roaming\\Python\\Python312\\site-packages\\mysql\\connector\\connection.py:184\u001b[0m, in \u001b[0;36mMySQLConnection.__init__\u001b[1;34m(self, **kwargs)\u001b[0m\n\u001b[0;32m    182\u001b[0m \u001b[38;5;28;01mif\u001b[39;00m kwargs:\n\u001b[0;32m    183\u001b[0m     \u001b[38;5;28;01mtry\u001b[39;00m:\n\u001b[1;32m--> 184\u001b[0m         \u001b[38;5;28mself\u001b[39m\u001b[38;5;241m.\u001b[39mconnect(\u001b[38;5;241m*\u001b[39m\u001b[38;5;241m*\u001b[39mkwargs)\n\u001b[0;32m    185\u001b[0m     \u001b[38;5;28;01mexcept\u001b[39;00m \u001b[38;5;167;01mException\u001b[39;00m:\n\u001b[0;32m    186\u001b[0m         \u001b[38;5;66;03m# Tidy-up underlying socket on failure\u001b[39;00m\n\u001b[0;32m    187\u001b[0m         \u001b[38;5;28mself\u001b[39m\u001b[38;5;241m.\u001b[39mclose()\n",
      "File \u001b[1;32m~\\AppData\\Roaming\\Python\\Python312\\site-packages\\mysql\\connector\\abstracts.py:1529\u001b[0m, in \u001b[0;36mMySQLConnectionAbstract.connect\u001b[1;34m(self, **kwargs)\u001b[0m\n\u001b[0;32m   1526\u001b[0m     \u001b[38;5;28mself\u001b[39m\u001b[38;5;241m.\u001b[39mconfig(\u001b[38;5;241m*\u001b[39m\u001b[38;5;241m*\u001b[39mkwargs)\n\u001b[0;32m   1528\u001b[0m \u001b[38;5;28mself\u001b[39m\u001b[38;5;241m.\u001b[39mdisconnect()\n\u001b[1;32m-> 1529\u001b[0m \u001b[38;5;28mself\u001b[39m\u001b[38;5;241m.\u001b[39m_open_connection()\n\u001b[0;32m   1531\u001b[0m charset, collation \u001b[38;5;241m=\u001b[39m (\n\u001b[0;32m   1532\u001b[0m     kwargs\u001b[38;5;241m.\u001b[39mpop(\u001b[38;5;124m\"\u001b[39m\u001b[38;5;124mcharset\u001b[39m\u001b[38;5;124m\"\u001b[39m, \u001b[38;5;28;01mNone\u001b[39;00m),\n\u001b[0;32m   1533\u001b[0m     kwargs\u001b[38;5;241m.\u001b[39mpop(\u001b[38;5;124m\"\u001b[39m\u001b[38;5;124mcollation\u001b[39m\u001b[38;5;124m\"\u001b[39m, \u001b[38;5;28;01mNone\u001b[39;00m),\n\u001b[0;32m   1534\u001b[0m )\n\u001b[0;32m   1535\u001b[0m \u001b[38;5;28;01mif\u001b[39;00m charset \u001b[38;5;129;01mor\u001b[39;00m collation:\n",
      "File \u001b[1;32m~\\AppData\\Roaming\\Python\\Python312\\site-packages\\mysql\\connector\\connection.py:410\u001b[0m, in \u001b[0;36mMySQLConnection._open_connection\u001b[1;34m(self)\u001b[0m\n\u001b[0;32m    405\u001b[0m     \u001b[38;5;28;01mif\u001b[39;00m \u001b[38;5;28misinstance\u001b[39m(err, (ReadTimeoutError, WriteTimeoutError)):\n\u001b[0;32m    406\u001b[0m         \u001b[38;5;28;01mraise\u001b[39;00m ConnectionTimeoutError(\n\u001b[0;32m    407\u001b[0m             errno\u001b[38;5;241m=\u001b[39merr\u001b[38;5;241m.\u001b[39merrno,\n\u001b[0;32m    408\u001b[0m             msg\u001b[38;5;241m=\u001b[39merr\u001b[38;5;241m.\u001b[39mmsg,\n\u001b[0;32m    409\u001b[0m         ) \u001b[38;5;28;01mfrom\u001b[39;00m \u001b[38;5;21;01merr\u001b[39;00m\n\u001b[1;32m--> 410\u001b[0m     \u001b[38;5;28;01mraise\u001b[39;00m err\n\u001b[0;32m    411\u001b[0m \u001b[38;5;28;01mfinally\u001b[39;00m:\n\u001b[0;32m    412\u001b[0m     \u001b[38;5;66;03m# as the connection is established, set back the read\u001b[39;00m\n\u001b[0;32m    413\u001b[0m     \u001b[38;5;66;03m# and write timeouts to the original value\u001b[39;00m\n\u001b[0;32m    414\u001b[0m     \u001b[38;5;28mself\u001b[39m\u001b[38;5;241m.\u001b[39mread_timeout \u001b[38;5;241m=\u001b[39m stored_read_timeout\n",
      "File \u001b[1;32m~\\AppData\\Roaming\\Python\\Python312\\site-packages\\mysql\\connector\\connection.py:381\u001b[0m, in \u001b[0;36mMySQLConnection._open_connection\u001b[1;34m(self)\u001b[0m\n\u001b[0;32m    379\u001b[0m \u001b[38;5;28mself\u001b[39m\u001b[38;5;241m.\u001b[39m_socket \u001b[38;5;241m=\u001b[39m \u001b[38;5;28mself\u001b[39m\u001b[38;5;241m.\u001b[39m_get_connection()\n\u001b[0;32m    380\u001b[0m \u001b[38;5;28;01mtry\u001b[39;00m:\n\u001b[1;32m--> 381\u001b[0m     \u001b[38;5;28mself\u001b[39m\u001b[38;5;241m.\u001b[39m_socket\u001b[38;5;241m.\u001b[39mopen_connection()\n\u001b[0;32m    383\u001b[0m     \u001b[38;5;66;03m# do initial handshake\u001b[39;00m\n\u001b[0;32m    384\u001b[0m     \u001b[38;5;28mself\u001b[39m\u001b[38;5;241m.\u001b[39m_do_handshake()\n",
      "File \u001b[1;32m~\\AppData\\Roaming\\Python\\Python312\\site-packages\\mysql\\connector\\network.py:810\u001b[0m, in \u001b[0;36mMySQLTCPSocket.open_connection\u001b[1;34m(self)\u001b[0m\n\u001b[0;32m    801\u001b[0m     \u001b[38;5;28;01mraise\u001b[39;00m ConnectionTimeoutError(\n\u001b[0;32m    802\u001b[0m         errno\u001b[38;5;241m=\u001b[39m\u001b[38;5;241m2003\u001b[39m,\n\u001b[0;32m    803\u001b[0m         values\u001b[38;5;241m=\u001b[39m(\n\u001b[1;32m   (...)\u001b[0m\n\u001b[0;32m    807\u001b[0m         ),\n\u001b[0;32m    808\u001b[0m     ) \u001b[38;5;28;01mfrom\u001b[39;00m \u001b[38;5;21;01merr\u001b[39;00m\n\u001b[0;32m    809\u001b[0m \u001b[38;5;28;01mexcept\u001b[39;00m \u001b[38;5;167;01mIOError\u001b[39;00m \u001b[38;5;28;01mas\u001b[39;00m err:\n\u001b[1;32m--> 810\u001b[0m     \u001b[38;5;28;01mraise\u001b[39;00m InterfaceError(\n\u001b[0;32m    811\u001b[0m         errno\u001b[38;5;241m=\u001b[39m\u001b[38;5;241m2002\u001b[39m,\n\u001b[0;32m    812\u001b[0m         values\u001b[38;5;241m=\u001b[39m(\n\u001b[0;32m    813\u001b[0m             \u001b[38;5;28mself\u001b[39m\u001b[38;5;241m.\u001b[39mserver_host,\n\u001b[0;32m    814\u001b[0m             \u001b[38;5;28mself\u001b[39m\u001b[38;5;241m.\u001b[39mserver_port,\n\u001b[0;32m    815\u001b[0m             _strioerror(err),\n\u001b[0;32m    816\u001b[0m         ),\n\u001b[0;32m    817\u001b[0m     ) \u001b[38;5;28;01mfrom\u001b[39;00m \u001b[38;5;21;01merr\u001b[39;00m\n\u001b[0;32m    818\u001b[0m \u001b[38;5;28;01mexcept\u001b[39;00m \u001b[38;5;167;01mException\u001b[39;00m \u001b[38;5;28;01mas\u001b[39;00m err:\n\u001b[0;32m    819\u001b[0m     \u001b[38;5;28;01mraise\u001b[39;00m OperationalError(\u001b[38;5;28mstr\u001b[39m(err)) \u001b[38;5;28;01mfrom\u001b[39;00m \u001b[38;5;21;01merr\u001b[39;00m\n",
      "\u001b[1;31mInterfaceError\u001b[0m: 2002: Can't connect to local MySQL server through socket '%-.100s' (%s) (Warning: not all arguments converted during string formatting)"
     ]
    }
   ],
   "source": [
    "mydb = mysql.connector.connect(\n",
    "    host = \"localhost\",\n",
    "    user = \"root\",\n",
    "    password=\"\"\n",
    ")"
   ]
  },
  {
   "cell_type": "code",
   "execution_count": 41,
   "id": "4474d02d-270c-42a0-ada2-a429817f0a9f",
   "metadata": {},
   "outputs": [],
   "source": [
    "mycursor = mydb.cursor(buffered=True)"
   ]
  },
  {
   "cell_type": "code",
   "execution_count": 47,
   "id": "d0d3f56d-6147-4b11-b8ed-855876d8559a",
   "metadata": {},
   "outputs": [],
   "source": [
    "mycursor.execute(\"use mdte19m\")"
   ]
  },
  {
   "cell_type": "code",
   "execution_count": 49,
   "id": "6f28d1ba-c496-4d79-8823-55378fb4accc",
   "metadata": {},
   "outputs": [],
   "source": [
    "mycursor.execute(\"SHOW DATABASES\")"
   ]
  },
  {
   "cell_type": "code",
   "execution_count": 19,
   "id": "29025ecb-4cef-4bc6-8489-c7ec12dbbfde",
   "metadata": {},
   "outputs": [
    {
     "name": "stdout",
     "output_type": "stream",
     "text": [
      "      driver_race   stop_date\n",
      "0           Asian  2020-01-01\n",
      "1           Other  2020-01-01\n",
      "2           Black  2020-01-01\n",
      "3           Black  2020-01-01\n",
      "4           Other  2020-01-01\n",
      "...           ...         ...\n",
      "65533       Black  2020-02-15\n",
      "65534    Hispanic  2020-02-15\n",
      "65535       Asian  2020-02-15\n",
      "65536       Black  2020-02-15\n",
      "65537       Other  2020-02-15\n",
      "\n",
      "[65538 rows x 2 columns]\n"
     ]
    }
   ],
   "source": [
    "df = pd.read_sql_query(\"SELECT driver_race,stop_date FROM traffic\", conn)\n",
    "df.head()\n",
    "print(df)\n"
   ]
  },
  {
   "cell_type": "code",
   "execution_count": 21,
   "id": "e0559961-e284-4b62-a112-9a02bac3aae8",
   "metadata": {},
   "outputs": [
    {
     "name": "stdout",
     "output_type": "stream",
     "text": [
      "      driver_race   stop_date\n",
      "0           Asian  2020-01-01\n",
      "1           Other  2020-01-01\n",
      "2           Black  2020-01-01\n",
      "3           Black  2020-01-01\n",
      "4           Other  2020-01-01\n",
      "...           ...         ...\n",
      "65533       Black  2020-02-15\n",
      "65534    Hispanic  2020-02-15\n",
      "65535       Asian  2020-02-15\n",
      "65536       Black  2020-02-15\n",
      "65537       Other  2020-02-15\n",
      "\n",
      "[65538 rows x 2 columns]\n"
     ]
    }
   ],
   "source": [
    "df = pd.read_sql_query(\"SELECT driver_race,stop_date FROM traffic\", conn)\n",
    "df.head()\n",
    "print(df)"
   ]
  },
  {
   "cell_type": "code",
   "execution_count": 23,
   "id": "8c29dd95-9108-4cd5-ada2-c23017ef3369",
   "metadata": {},
   "outputs": [
    {
     "name": "stdout",
     "output_type": "stream",
     "text": [
      "   total_stops\n",
      "0        65538\n"
     ]
    }
   ],
   "source": [
    "#query1\n",
    "df = pd.read_sql_query(\"SELECT COUNT(*) AS total_stops FROM traffic\",conn)\n",
    "df.head()\n",
    "print(df)"
   ]
  },
  {
   "cell_type": "code",
   "execution_count": 25,
   "id": "1bd86fe4-c117-42e7-9334-5e6f3674cd76",
   "metadata": {},
   "outputs": [
    {
     "name": "stdout",
     "output_type": "stream",
     "text": [
      "  violation  stop_count\n",
      "0     Other       13194\n",
      "1  Speeding       13150\n",
      "2    Signal       13112\n",
      "3       DUI       13075\n",
      "4  Seatbelt       13007\n"
     ]
    }
   ],
   "source": [
    "#query2\n",
    "df = pd.read_sql_query(\"SELECT violation, COUNT(*) AS stop_count FROM traffic GROUP BY violation ORDER BY stop_count DESC\",conn)\n",
    "df.head()\n",
    "print(df)\n"
   ]
  },
  {
   "cell_type": "code",
   "execution_count": 63,
   "id": "6c9de369-c5ac-40ba-a643-5280e65c290a",
   "metadata": {},
   "outputs": [
    {
     "name": "stdout",
     "output_type": "stream",
     "text": [
      "  stop_outcome  count\n",
      "0       Arrest  21734\n",
      "1      Warning  21966\n"
     ]
    }
   ],
   "source": [
    "#query3\n",
    "df = pd.read_sql_query(\"SELECT stop_outcome, COUNT(*) AS count FROM traffic WHERE stop_outcome IN ('Arrest', 'Warning') GROUP BY stop_outcome\",conn)\n",
    "df.head()\n",
    "print(df)"
   ]
  },
  {
   "cell_type": "code",
   "execution_count": 67,
   "id": "4c6657bc-0b26-47a3-8613-86145e039baa",
   "metadata": {},
   "outputs": [
    {
     "name": "stdout",
     "output_type": "stream",
     "text": [
      "   average_age\n",
      "0     49.11221\n"
     ]
    }
   ],
   "source": [
    "#query4\n",
    "df = pd.read_sql_query(\"SELECT AVG(driver_age) AS average_age FROM traffic\",conn)\n",
    "df.head()\n",
    "print(df)\n"
   ]
  },
  {
   "cell_type": "code",
   "execution_count": 69,
   "id": "6dbfe973-1b04-4581-8ae5-7da2b185b287",
   "metadata": {},
   "outputs": [
    {
     "name": "stdout",
     "output_type": "stream",
     "text": [
      "      search_type  count\n",
      "0           Frisk  21971\n",
      "1  Vehicle Search  21847\n"
     ]
    }
   ],
   "source": [
    "#query5\n",
    "df = pd.read_sql_query(\"SELECT search_type, COUNT(*) AS count FROM traffic WHERE search_type IS NOT NULL GROUP BY search_type ORDER BY count DESC LIMIT 5\",conn)\n",
    "df.head()\n",
    "print(df)\n"
   ]
  },
  {
   "cell_type": "code",
   "execution_count": 71,
   "id": "93ecde85-651b-4025-a028-ea088ca94dd8",
   "metadata": {},
   "outputs": [
    {
     "name": "stdout",
     "output_type": "stream",
     "text": [
      "  driver_gender  count\n",
      "0             F  32881\n",
      "1             M  32657\n"
     ]
    }
   ],
   "source": [
    "#query6\n",
    "df = pd.read_sql_query(\"SELECT driver_gender, COUNT(*) AS count FROM traffic GROUP BY driver_gender\",conn)\n",
    "df.head()\n",
    "print(df)"
   ]
  },
  {
   "cell_type": "code",
   "execution_count": 73,
   "id": "88074d02-6c56-4c2f-a509-26d92c8d1971",
   "metadata": {},
   "outputs": [
    {
     "name": "stdout",
     "output_type": "stream",
     "text": [
      "  violation  arrest_count\n",
      "0  Speeding          4393\n"
     ]
    }
   ],
   "source": [
    "#query7\n",
    "df = pd.read_sql_query(\"SELECT violation, COUNT(*) AS arrest_count FROM traffic WHERE stop_outcome = 'Arrest' GROUP BY violation ORDER BY arrest_count DESC LIMIT 1\",conn)\n",
    "df.head()\n",
    "print(df)"
   ]
  },
  {
   "cell_type": "code",
   "execution_count": 75,
   "id": "c062bdd6-9cff-4a3b-8674-671a11cfbf8d",
   "metadata": {},
   "outputs": [
    {
     "name": "stdout",
     "output_type": "stream",
     "text": [
      "  violation  avg_duration\n",
      "0       DUI     15.234876\n",
      "1     Other     15.743975\n",
      "2  Seatbelt     15.334358\n",
      "3    Signal     15.201952\n",
      "4  Speeding     15.286692\n"
     ]
    }
   ],
   "source": [
    "#query8\n",
    "df = pd.read_sql_query(\"SELECT violation, AVG(stop_duration) AS avg_duration FROM traffic GROUP BY violation\",conn)\n",
    "df.head()\n",
    "print(df)"
   ]
  },
  {
   "cell_type": "code",
   "execution_count": 58,
   "id": "2cac7f89-44b8-4a7c-8d75-a8e4684e8982",
   "metadata": {},
   "outputs": [
    {
     "ename": "DatabaseError",
     "evalue": "Execution failed on sql 'SELECT strftime('%Y', stop_date) AS year,COUNT(*) AS drug_related_stops FROM traffic WHERE drug_related = 1 GROUP BY strftime('%Y', stop_date)ORDER BY year': no such column: drug_related",
     "output_type": "error",
     "traceback": [
      "\u001b[1;31m---------------------------------------------------------------------------\u001b[0m",
      "\u001b[1;31mOperationalError\u001b[0m                          Traceback (most recent call last)",
      "File \u001b[1;32mC:\\ProgramData\\anaconda3\\Lib\\site-packages\\pandas\\io\\sql.py:2674\u001b[0m, in \u001b[0;36mSQLiteDatabase.execute\u001b[1;34m(self, sql, params)\u001b[0m\n\u001b[0;32m   2673\u001b[0m \u001b[38;5;28;01mtry\u001b[39;00m:\n\u001b[1;32m-> 2674\u001b[0m     cur\u001b[38;5;241m.\u001b[39mexecute(sql, \u001b[38;5;241m*\u001b[39margs)\n\u001b[0;32m   2675\u001b[0m     \u001b[38;5;28;01mreturn\u001b[39;00m cur\n",
      "\u001b[1;31mOperationalError\u001b[0m: no such column: drug_related",
      "\nThe above exception was the direct cause of the following exception:\n",
      "\u001b[1;31mDatabaseError\u001b[0m                             Traceback (most recent call last)",
      "Cell \u001b[1;32mIn[58], line 2\u001b[0m\n\u001b[0;32m      1\u001b[0m \u001b[38;5;66;03m#query9\u001b[39;00m\n\u001b[1;32m----> 2\u001b[0m df \u001b[38;5;241m=\u001b[39m pd\u001b[38;5;241m.\u001b[39mread_sql_query(\u001b[38;5;124m\"\u001b[39m\u001b[38;5;124mSELECT strftime(\u001b[39m\u001b[38;5;124m'\u001b[39m\u001b[38;5;124m%\u001b[39m\u001b[38;5;124mY\u001b[39m\u001b[38;5;124m'\u001b[39m\u001b[38;5;124m, stop_date) AS year,COUNT(*) AS drug_related_stops FROM traffic WHERE drug_related = 1 GROUP BY strftime(\u001b[39m\u001b[38;5;124m'\u001b[39m\u001b[38;5;124m%\u001b[39m\u001b[38;5;124mY\u001b[39m\u001b[38;5;124m'\u001b[39m\u001b[38;5;124m, stop_date)ORDER BY year\u001b[39m\u001b[38;5;124m\"\u001b[39m,conn)\n\u001b[0;32m      3\u001b[0m df\u001b[38;5;241m.\u001b[39mhead()\n\u001b[0;32m      4\u001b[0m \u001b[38;5;28mprint\u001b[39m(df)\n",
      "File \u001b[1;32mC:\\ProgramData\\anaconda3\\Lib\\site-packages\\pandas\\io\\sql.py:526\u001b[0m, in \u001b[0;36mread_sql_query\u001b[1;34m(sql, con, index_col, coerce_float, params, parse_dates, chunksize, dtype, dtype_backend)\u001b[0m\n\u001b[0;32m    523\u001b[0m \u001b[38;5;28;01massert\u001b[39;00m dtype_backend \u001b[38;5;129;01mis\u001b[39;00m \u001b[38;5;129;01mnot\u001b[39;00m lib\u001b[38;5;241m.\u001b[39mno_default\n\u001b[0;32m    525\u001b[0m \u001b[38;5;28;01mwith\u001b[39;00m pandasSQL_builder(con) \u001b[38;5;28;01mas\u001b[39;00m pandas_sql:\n\u001b[1;32m--> 526\u001b[0m     \u001b[38;5;28;01mreturn\u001b[39;00m pandas_sql\u001b[38;5;241m.\u001b[39mread_query(\n\u001b[0;32m    527\u001b[0m         sql,\n\u001b[0;32m    528\u001b[0m         index_col\u001b[38;5;241m=\u001b[39mindex_col,\n\u001b[0;32m    529\u001b[0m         params\u001b[38;5;241m=\u001b[39mparams,\n\u001b[0;32m    530\u001b[0m         coerce_float\u001b[38;5;241m=\u001b[39mcoerce_float,\n\u001b[0;32m    531\u001b[0m         parse_dates\u001b[38;5;241m=\u001b[39mparse_dates,\n\u001b[0;32m    532\u001b[0m         chunksize\u001b[38;5;241m=\u001b[39mchunksize,\n\u001b[0;32m    533\u001b[0m         dtype\u001b[38;5;241m=\u001b[39mdtype,\n\u001b[0;32m    534\u001b[0m         dtype_backend\u001b[38;5;241m=\u001b[39mdtype_backend,\n\u001b[0;32m    535\u001b[0m     )\n",
      "File \u001b[1;32mC:\\ProgramData\\anaconda3\\Lib\\site-packages\\pandas\\io\\sql.py:2738\u001b[0m, in \u001b[0;36mSQLiteDatabase.read_query\u001b[1;34m(self, sql, index_col, coerce_float, parse_dates, params, chunksize, dtype, dtype_backend)\u001b[0m\n\u001b[0;32m   2727\u001b[0m \u001b[38;5;28;01mdef\u001b[39;00m \u001b[38;5;21mread_query\u001b[39m(\n\u001b[0;32m   2728\u001b[0m     \u001b[38;5;28mself\u001b[39m,\n\u001b[0;32m   2729\u001b[0m     sql,\n\u001b[1;32m   (...)\u001b[0m\n\u001b[0;32m   2736\u001b[0m     dtype_backend: DtypeBackend \u001b[38;5;241m|\u001b[39m Literal[\u001b[38;5;124m\"\u001b[39m\u001b[38;5;124mnumpy\u001b[39m\u001b[38;5;124m\"\u001b[39m] \u001b[38;5;241m=\u001b[39m \u001b[38;5;124m\"\u001b[39m\u001b[38;5;124mnumpy\u001b[39m\u001b[38;5;124m\"\u001b[39m,\n\u001b[0;32m   2737\u001b[0m ) \u001b[38;5;241m-\u001b[39m\u001b[38;5;241m>\u001b[39m DataFrame \u001b[38;5;241m|\u001b[39m Iterator[DataFrame]:\n\u001b[1;32m-> 2738\u001b[0m     cursor \u001b[38;5;241m=\u001b[39m \u001b[38;5;28mself\u001b[39m\u001b[38;5;241m.\u001b[39mexecute(sql, params)\n\u001b[0;32m   2739\u001b[0m     columns \u001b[38;5;241m=\u001b[39m [col_desc[\u001b[38;5;241m0\u001b[39m] \u001b[38;5;28;01mfor\u001b[39;00m col_desc \u001b[38;5;129;01min\u001b[39;00m cursor\u001b[38;5;241m.\u001b[39mdescription]\n\u001b[0;32m   2741\u001b[0m     \u001b[38;5;28;01mif\u001b[39;00m chunksize \u001b[38;5;129;01mis\u001b[39;00m \u001b[38;5;129;01mnot\u001b[39;00m \u001b[38;5;28;01mNone\u001b[39;00m:\n",
      "File \u001b[1;32mC:\\ProgramData\\anaconda3\\Lib\\site-packages\\pandas\\io\\sql.py:2686\u001b[0m, in \u001b[0;36mSQLiteDatabase.execute\u001b[1;34m(self, sql, params)\u001b[0m\n\u001b[0;32m   2683\u001b[0m     \u001b[38;5;28;01mraise\u001b[39;00m ex \u001b[38;5;28;01mfrom\u001b[39;00m \u001b[38;5;21;01minner_exc\u001b[39;00m\n\u001b[0;32m   2685\u001b[0m ex \u001b[38;5;241m=\u001b[39m DatabaseError(\u001b[38;5;124mf\u001b[39m\u001b[38;5;124m\"\u001b[39m\u001b[38;5;124mExecution failed on sql \u001b[39m\u001b[38;5;124m'\u001b[39m\u001b[38;5;132;01m{\u001b[39;00msql\u001b[38;5;132;01m}\u001b[39;00m\u001b[38;5;124m'\u001b[39m\u001b[38;5;124m: \u001b[39m\u001b[38;5;132;01m{\u001b[39;00mexc\u001b[38;5;132;01m}\u001b[39;00m\u001b[38;5;124m\"\u001b[39m)\n\u001b[1;32m-> 2686\u001b[0m \u001b[38;5;28;01mraise\u001b[39;00m ex \u001b[38;5;28;01mfrom\u001b[39;00m \u001b[38;5;21;01mexc\u001b[39;00m\n",
      "\u001b[1;31mDatabaseError\u001b[0m: Execution failed on sql 'SELECT strftime('%Y', stop_date) AS year,COUNT(*) AS drug_related_stops FROM traffic WHERE drug_related = 1 GROUP BY strftime('%Y', stop_date)ORDER BY year': no such column: drug_related"
     ]
    }
   ],
   "source": [
    "#query9\n",
    "df = pd.read_sql_query(\"SELECT strftime('%Y', stop_date) AS year,COUNT(*) AS drug_related_stops FROM traffic WHERE drug_related = 1 GROUP BY strftime('%Y', stop_date)ORDER BY year\",conn)\n",
    "df.head()\n",
    "print(df)"
   ]
  },
  {
   "cell_type": "code",
   "execution_count": 89,
   "id": "ec586bd1-70b4-4e78-93d5-2217b229a840",
   "metadata": {},
   "outputs": [
    {
     "name": "stdout",
     "output_type": "stream",
     "text": [
      "  driver_race  stop_count\n",
      "0       White       13168\n",
      "1       Black       13131\n",
      "2       Other       13122\n",
      "3       Asian       13111\n",
      "4    Hispanic       13006\n"
     ]
    }
   ],
   "source": [
    "#query10\n",
    "df = pd.read_sql_query(\"SELECT driver_race, COUNT(*) AS stop_count FROM traffic GROUP BY driver_race ORDER BY stop_count DESC LIMIT 5\",conn)\n",
    "df.head()\n",
    "print(df)"
   ]
  },
  {
   "cell_type": "code",
   "execution_count": 32,
   "id": "199e43eb-c0ab-403c-8654-916eede22075",
   "metadata": {},
   "outputs": [
    {
     "name": "stdout",
     "output_type": "stream",
     "text": [
      "   night_stops\n",
      "0         5400\n"
     ]
    }
   ],
   "source": [
    "#query11\n",
    "df = pd.read_sql_query(\"SELECT COUNT(*) AS night_stops FROM traffic WHERE (CAST(strftime('%H', stop_time) AS INTEGER) >= 22 OR CAST(strftime('%H', stop_time) AS INTEGER) < 5)\",conn)\n",
    "df.head()\n",
    "print(df)"
   ]
  },
  {
   "cell_type": "code",
   "execution_count": 93,
   "id": "23d0b9db-f869-4034-81ae-471468071c24",
   "metadata": {},
   "outputs": [
    {
     "name": "stdout",
     "output_type": "stream",
     "text": [
      "  violation  search_count\n",
      "0       DUI          8683\n",
      "1     Other          8769\n",
      "2  Seatbelt          8820\n",
      "3    Signal          8712\n",
      "4  Speeding          8834\n"
     ]
    }
   ],
   "source": [
    "#query12\n",
    "df = pd.read_sql_query(\"SELECT violation, COUNT(*) AS search_count FROM traffic WHERE search_type IS NOT NULL GROUP BY violation\",conn)\n",
    "df.head()\n",
    "print(df)"
   ]
  },
  {
   "cell_type": "code",
   "execution_count": 27,
   "id": "83f0ada0-0080-4c9e-a960-409b99d029cc",
   "metadata": {},
   "outputs": [
    {
     "name": "stdout",
     "output_type": "stream",
     "text": [
      "  driver_gender  arrest_rate\n",
      "0             F     0.330556\n",
      "1             M     0.332700\n"
     ]
    }
   ],
   "source": [
    "#query13\n",
    "df = pd.read_sql_query(\"SELECT driver_gender, AVG(CASE WHEN stop_outcome = 'Arrest' THEN 1 ELSE 0 END) AS arrest_rate FROM traffic GROUP BY driver_gender\",conn)\n",
    "df.head()\n",
    "print(df)"
   ]
  },
  {
   "cell_type": "code",
   "execution_count": 36,
   "id": "797088db-72fc-4a7d-b862-50ebadb02384",
   "metadata": {},
   "outputs": [
    {
     "name": "stdout",
     "output_type": "stream",
     "text": [
      "  year_month  violation_count\n",
      "0    2020-01            44640\n",
      "1    2020-02            20898\n"
     ]
    }
   ],
   "source": [
    "#query14\n",
    "df = pd.read_sql_query(\"SELECT strftime('%Y-%m', stop_date) AS year_month, COUNT(*) AS violation_count FROM traffic WHERE violation IS NOT NULL GROUP BY year_month ORDER BY year_month\",conn)\n",
    "df.head()\n",
    "print(df)"
   ]
  },
  {
   "cell_type": "code",
   "execution_count": 35,
   "id": "343a436d-c7eb-4e0d-882f-35da0f99ede4",
   "metadata": {},
   "outputs": [
    {
     "name": "stdout",
     "output_type": "stream",
     "text": [
      "Empty DataFrame\n",
      "Columns: [stop_outcome, count]\n",
      "Index: []\n"
     ]
    }
   ],
   "source": [
    "#query15\n",
    "df = pd.read_sql_query(\"SELECT stop_outcome, COUNT(*) AS count FROM traffic WHERE drugs_related_stop = 'Yes' GROUP BY stop_outcome ORDER BY count DESC\",conn)\n",
    "df.head()\n",
    "print(df)\n"
   ]
  },
  {
   "cell_type": "code",
   "execution_count": 44,
   "id": "94766a6e-c8a5-4c73-85f7-f0d58f0daeae",
   "metadata": {},
   "outputs": [
    {
     "name": "stdout",
     "output_type": "stream",
     "text": [
      "  country_name  year  total_stops  total_arrests  arrest_rank\n",
      "0        India  2020        21998          11091            1\n",
      "1       Canada  2020        21908          10999            2\n",
      "2          USA  2020        21632          10756            3\n"
     ]
    }
   ],
   "source": [
    "#query1.1\n",
    "df = pd.read_sql_query(\"WITH yearly_data AS (SELECT country_name, strftime('%Y', stop_date) AS year, COUNT(*) AS total_stops, SUM(CASE WHEN is_arrested = 1 THEN 1 ELSE 0 END) AS total_arrests FROM traffic GROUP BY country_name, year), ranked_data AS (SELECT *, RANK() OVER (PARTITION BY year ORDER BY total_arrests DESC) AS arrest_rank FROM yearly_data)SELECT * FROM ranked_data ORDER BY year, arrest_rank\",conn)\n",
    "df.head()\n",
    "print(df)"
   ]
  },
  {
   "cell_type": "code",
   "execution_count": 47,
   "id": "7201a10f-fffc-468f-80d3-41f4267f26eb",
   "metadata": {},
   "outputs": [
    {
     "name": "stdout",
     "output_type": "stream",
     "text": [
      "      driver_age driver_race violation  count\n",
      "0             56       White       DUI     63\n",
      "1             61       White       DUI     59\n",
      "2             71       Other  Speeding     59\n",
      "3             78       Asian       DUI     59\n",
      "4             33       Other  Speeding     58\n",
      "...          ...         ...       ...    ...\n",
      "1570          71       White  Seatbelt     26\n",
      "1571          24    Hispanic       DUI     25\n",
      "1572          79    Hispanic  Seatbelt     25\n",
      "1573          46       White  Seatbelt     24\n",
      "1574          57       Asian       DUI     24\n",
      "\n",
      "[1575 rows x 4 columns]\n"
     ]
    }
   ],
   "source": [
    "#query1.2\n",
    "df = pd.read_sql_query(\"SELECT driver_age, driver_race, violation, COUNT(*) AS count FROM ( SELECT *, CASE WHEN driver_age < 20 THEN '<20' WHEN driver_age BETWEEN 20 AND 29 THEN '20-29' WHEN driver_age BETWEEN 30 AND 39 THEN '30-39' WHEN driver_age BETWEEN 40 AND 49 THEN '40-49' ELSE '50+' END AS age_group FROM traffic) AS sub GROUP BY driver_age, driver_race, violation ORDER BY count DESC\",conn)\n",
    "df.head()\n",
    "print(df)"
   ]
  },
  {
   "cell_type": "code",
   "execution_count": 51,
   "id": "ba3d0a6d-c927-4731-a92d-92ae4ecf4cb2",
   "metadata": {},
   "outputs": [
    {
     "name": "stdout",
     "output_type": "stream",
     "text": [
      "  time_period  stop_count\n",
      "0   Afternoon       10818\n",
      "1     Evening       13560\n",
      "2       Night       41160\n"
     ]
    }
   ],
   "source": [
    "#query1.3\n",
    "df = pd.read_sql_query(\"SELECT CASE WHEN (stop_time) BETWEEN 5 AND 11 THEN 'Morning' WHEN (stop_time) BETWEEN 12 AND 16 THEN 'Afternoon' WHEN (stop_time) BETWEEN 17 AND 21 THEN 'Evening' ELSE 'Night' END AS time_period, COUNT(*) AS stop_count FROM traffic GROUP BY time_period\",conn)\n",
    "df.head()\n",
    "print(df)"
   ]
  },
  {
   "cell_type": "code",
   "execution_count": 55,
   "id": "fa94fdee-707d-4174-be96-5ad1f30c3a5b",
   "metadata": {},
   "outputs": [
    {
     "name": "stdout",
     "output_type": "stream",
     "text": [
      "     driver_age violation  avg_duration\n",
      "0            18       DUI     15.866667\n",
      "1            18     Other     15.448276\n",
      "2            18  Seatbelt     16.070352\n",
      "3            18    Signal     14.651584\n",
      "4            18  Speeding     14.546341\n",
      "..          ...       ...           ...\n",
      "310          80       DUI     14.607930\n",
      "311          80     Other     14.935484\n",
      "312          80  Seatbelt     15.162791\n",
      "313          80    Signal     14.081633\n",
      "314          80  Speeding     16.174863\n",
      "\n",
      "[315 rows x 3 columns]\n"
     ]
    }
   ],
   "source": [
    "#query1.4\n",
    "df = pd.read_sql_query(\"SELECT driver_age, violation, AVG(stop_duration) AS avg_duration FROM traffic GROUP BY driver_age, violation ORDER BY driver_age\",conn)\n",
    "df.head()\n",
    "print(df)"
   ]
  },
  {
   "cell_type": "code",
   "execution_count": 57,
   "id": "915fa9a8-d089-4dee-8a84-46bae95cd098",
   "metadata": {},
   "outputs": [
    {
     "name": "stdout",
     "output_type": "stream",
     "text": [
      "  violation  total  search_rate  arrest_rate\n",
      "0  Speeding  13150     0.671787     0.334068\n",
      "1       DUI  13075     0.664092     0.333996\n",
      "2     Other  13194     0.664620     0.332348\n",
      "3    Signal  13112     0.664430     0.331376\n",
      "4  Seatbelt  13007     0.678096     0.326286\n"
     ]
    }
   ],
   "source": [
    "#query1.5\n",
    "df = pd.read_sql_query(\"SELECT violation, COUNT(*) AS total, AVG(CASE WHEN search_type IS NOT NULL THEN 1 ELSE 0 END) AS search_rate, AVG(CASE WHEN stop_outcome = 'Arrest' THEN 1 ELSE 0 END) AS arrest_rate FROM traffic GROUP BY violation HAVING total > 100 ORDER BY arrest_rate DESC\",conn)\n",
    "df.head()\n",
    "print(df)"
   ]
  },
  {
   "cell_type": "code",
   "execution_count": 63,
   "id": "93f99b78-1a81-4a43-b831-cb7975bd5a31",
   "metadata": {},
   "outputs": [
    {
     "name": "stdout",
     "output_type": "stream",
     "text": [
      "  country_name    avg_age  gender_count  race_count\n",
      "0       Canada  49.114661             2           5\n",
      "1        India  49.105964             2           5\n",
      "2          USA  49.116078             2           5\n"
     ]
    }
   ],
   "source": [
    "#query1.6\n",
    "df = pd.read_sql_query(\"SELECT country_name, AVG(driver_age) AS avg_age, COUNT(DISTINCT driver_gender) AS gender_count, COUNT(DISTINCT driver_race) AS race_count FROM traffic GROUP BY country_name\",conn)\n",
    "df.head()\n",
    "print(df)"
   ]
  },
  {
   "cell_type": "code",
   "execution_count": 65,
   "id": "e58d97c1-9b29-41c8-a616-15948ec87475",
   "metadata": {},
   "outputs": [
    {
     "name": "stdout",
     "output_type": "stream",
     "text": [
      "  violation  arrest_rate\n",
      "0  Speeding     0.334068\n",
      "1       DUI     0.333996\n",
      "2     Other     0.332348\n",
      "3    Signal     0.331376\n",
      "4  Seatbelt     0.326286\n"
     ]
    }
   ],
   "source": [
    "#query1.7\n",
    "df = pd.read_sql_query(\"SELECT violation, AVG(CASE WHEN stop_outcome = 'Arrest' THEN 1 ELSE 0 END) AS arrest_rate FROM traffic GROUP BY violation HAVING COUNT(*) > 50 ORDER BY arrest_rate DESC LIMIT 5\",conn)\n",
    "df.head()\n",
    "print(df)"
   ]
  },
  {
   "cell_type": "code",
   "execution_count": null,
   "id": "8b73e3c6-137d-4220-b073-9b06b1ec9dfb",
   "metadata": {},
   "outputs": [],
   "source": []
  }
 ],
 "metadata": {
  "kernelspec": {
   "display_name": "Python [conda env:base] *",
   "language": "python",
   "name": "conda-base-py"
  },
  "language_info": {
   "codemirror_mode": {
    "name": "ipython",
    "version": 3
   },
   "file_extension": ".py",
   "mimetype": "text/x-python",
   "name": "python",
   "nbconvert_exporter": "python",
   "pygments_lexer": "ipython3",
   "version": "3.12.7"
  }
 },
 "nbformat": 4,
 "nbformat_minor": 5
}
